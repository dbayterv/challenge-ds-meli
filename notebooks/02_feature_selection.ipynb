{
 "cells": [
  {
   "cell_type": "markdown",
   "id": "ee8f1d63",
   "metadata": {},
   "source": [
    "# Parte 2. Feature Selection\n",
    "Usaremos el metodo de ramdonforest para la selección de características."
   ]
  },
  {
   "cell_type": "code",
   "execution_count": 1,
   "id": "049f0e42",
   "metadata": {},
   "outputs": [
    {
     "name": "stdout",
     "output_type": "stream",
     "text": [
      "Directorio de trabajo actual cambiado a: /Users/david.bayter/Documents/Private/challenge-ds-meli\n"
     ]
    }
   ],
   "source": [
    "import os\n",
    "import sys\n",
    "\n",
    "project_root = os.path.abspath('..')\n",
    "if project_root not in sys.path:\n",
    "    sys.path.insert(0, project_root)\n",
    "\n",
    "os.chdir(project_root)\n",
    "print(f\"Directorio de trabajo actual cambiado a: {os.getcwd()}\")"
   ]
  },
  {
   "cell_type": "code",
   "execution_count": 2,
   "id": "aaa77a05",
   "metadata": {},
   "outputs": [],
   "source": [
    "import pandas as pd\n",
    "import numpy as np\n",
    "from src.modeling.feature_selection import feature_selection_random_forest\n",
    "from sklearn.preprocessing import LabelEncoder\n",
    "from config.config import configs\n",
    "from src.utils.convert_datatype_utils import set_datatypes"
   ]
  },
  {
   "cell_type": "code",
   "execution_count": 3,
   "id": "21c38af4",
   "metadata": {},
   "outputs": [
    {
     "data": {
      "application/vnd.microsoft.datawrangler.viewer.v0+json": {
       "columns": [
        {
         "name": "index",
         "rawType": "object",
         "type": "string"
        },
        {
         "name": "0",
         "rawType": "object",
         "type": "unknown"
        }
       ],
       "ref": "66500af1-e23c-4636-a822-273aa8f4bc0d",
       "rows": [
        [
         "condition",
         "int64"
        ],
        [
         "base_price",
         "float64"
        ],
        [
         "seller_id",
         "int64"
        ],
        [
         "listing_type_id",
         "object"
        ],
        [
         "price",
         "float64"
        ],
        [
         "buying_mode",
         "object"
        ],
        [
         "category_id",
         "object"
        ],
        [
         "international_delivery_mode",
         "object"
        ],
        [
         "accepts_mercadopago",
         "bool"
        ],
        [
         "currency_id",
         "object"
        ],
        [
         "automatic_relist",
         "bool"
        ],
        [
         "status",
         "object"
        ],
        [
         "initial_quantity",
         "int64"
        ],
        [
         "sold_quantity",
         "int64"
        ],
        [
         "available_quantity",
         "int64"
        ],
        [
         "seller_address_state.name",
         "object"
        ],
        [
         "seller_address_city.name",
         "object"
        ],
        [
         "sub_status_deleted",
         "bool"
        ],
        [
         "sub_status_expired",
         "bool"
        ],
        [
         "sub_status_suspended",
         "bool"
        ],
        [
         "shipping_local_pick_up",
         "bool"
        ],
        [
         "shipping_free_shipping",
         "bool"
        ],
        [
         "shipping_mode",
         "object"
        ],
        [
         "shipping_free_methods",
         "bool"
        ],
        [
         "tags_dragged_bids_and_visits",
         "bool"
        ],
        [
         "tags_dragged_visits",
         "bool"
        ],
        [
         "tags_free_relist",
         "bool"
        ],
        [
         "tags_good_quality_thumbnail",
         "bool"
        ],
        [
         "tags_poor_quality_thumbnail",
         "bool"
        ],
        [
         "payment_group_Arreglo_Directo",
         "bool"
        ],
        [
         "payment_group_MercadoPago",
         "bool"
        ],
        [
         "payment_group_Tarjeta_Credito",
         "bool"
        ],
        [
         "payment_group_Transferencia_Giro",
         "bool"
        ],
        [
         "sin_garantia",
         "bool"
        ],
        [
         "reputacion",
         "bool"
        ],
        [
         "_3_6_meses",
         "bool"
        ],
        [
         "con_garantia",
         "bool"
        ],
        [
         "warranty_group",
         "object"
        ],
        [
         "diferencia_meses",
         "int64"
        ],
        [
         "title_cont_usado",
         "bool"
        ],
        [
         "title_cont_nuevo",
         "bool"
        ]
       ],
       "shape": {
        "columns": 1,
        "rows": 41
       }
      },
      "text/plain": [
       "condition                             int64\n",
       "base_price                          float64\n",
       "seller_id                             int64\n",
       "listing_type_id                      object\n",
       "price                               float64\n",
       "buying_mode                          object\n",
       "category_id                          object\n",
       "international_delivery_mode          object\n",
       "accepts_mercadopago                    bool\n",
       "currency_id                          object\n",
       "automatic_relist                       bool\n",
       "status                               object\n",
       "initial_quantity                      int64\n",
       "sold_quantity                         int64\n",
       "available_quantity                    int64\n",
       "seller_address_state.name            object\n",
       "seller_address_city.name             object\n",
       "sub_status_deleted                     bool\n",
       "sub_status_expired                     bool\n",
       "sub_status_suspended                   bool\n",
       "shipping_local_pick_up                 bool\n",
       "shipping_free_shipping                 bool\n",
       "shipping_mode                        object\n",
       "shipping_free_methods                  bool\n",
       "tags_dragged_bids_and_visits           bool\n",
       "tags_dragged_visits                    bool\n",
       "tags_free_relist                       bool\n",
       "tags_good_quality_thumbnail            bool\n",
       "tags_poor_quality_thumbnail            bool\n",
       "payment_group_Arreglo_Directo          bool\n",
       "payment_group_MercadoPago              bool\n",
       "payment_group_Tarjeta_Credito          bool\n",
       "payment_group_Transferencia_Giro       bool\n",
       "sin_garantia                           bool\n",
       "reputacion                             bool\n",
       "_3_6_meses                             bool\n",
       "con_garantia                           bool\n",
       "warranty_group                       object\n",
       "diferencia_meses                      int64\n",
       "title_cont_usado                       bool\n",
       "title_cont_nuevo                       bool\n",
       "dtype: object"
      ]
     },
     "execution_count": 3,
     "metadata": {},
     "output_type": "execute_result"
    }
   ],
   "source": [
    "df = pd.read_csv('data/processed/df_to_modeling.csv')\n",
    "df.dtypes"
   ]
  },
  {
   "cell_type": "code",
   "execution_count": 5,
   "id": "daeea1d1",
   "metadata": {},
   "outputs": [
    {
     "name": "stdout",
     "output_type": "stream",
     "text": [
      "Columnas numéricas convertidas.\n",
      "Columnas booleanas convertidas.\n",
      "Error: La columna 'site_id' no se encontró en el DataFrame.\n",
      "Columnas categóricas convertidas.\n"
     ]
    },
    {
     "data": {
      "application/vnd.microsoft.datawrangler.viewer.v0+json": {
       "columns": [
        {
         "name": "index",
         "rawType": "object",
         "type": "string"
        },
        {
         "name": "0",
         "rawType": "object",
         "type": "unknown"
        }
       ],
       "ref": "10eb7919-f3af-4c67-9ce1-2f371d102e5d",
       "rows": [
        [
         "condition",
         "int64"
        ],
        [
         "base_price",
         "float64"
        ],
        [
         "seller_id",
         "category"
        ],
        [
         "listing_type_id",
         "category"
        ],
        [
         "price",
         "float64"
        ],
        [
         "buying_mode",
         "category"
        ],
        [
         "category_id",
         "category"
        ],
        [
         "international_delivery_mode",
         "category"
        ],
        [
         "accepts_mercadopago",
         "bool"
        ],
        [
         "currency_id",
         "category"
        ],
        [
         "automatic_relist",
         "bool"
        ],
        [
         "status",
         "category"
        ],
        [
         "initial_quantity",
         "int64"
        ],
        [
         "sold_quantity",
         "int64"
        ],
        [
         "available_quantity",
         "int64"
        ],
        [
         "seller_address_state.name",
         "category"
        ],
        [
         "seller_address_city.name",
         "category"
        ],
        [
         "sub_status_deleted",
         "bool"
        ],
        [
         "sub_status_expired",
         "bool"
        ],
        [
         "sub_status_suspended",
         "bool"
        ],
        [
         "shipping_local_pick_up",
         "bool"
        ],
        [
         "shipping_free_shipping",
         "bool"
        ],
        [
         "shipping_mode",
         "category"
        ],
        [
         "shipping_free_methods",
         "bool"
        ],
        [
         "tags_dragged_bids_and_visits",
         "bool"
        ],
        [
         "tags_dragged_visits",
         "bool"
        ],
        [
         "tags_free_relist",
         "bool"
        ],
        [
         "tags_good_quality_thumbnail",
         "bool"
        ],
        [
         "tags_poor_quality_thumbnail",
         "bool"
        ],
        [
         "payment_group_Arreglo_Directo",
         "bool"
        ],
        [
         "payment_group_MercadoPago",
         "bool"
        ],
        [
         "payment_group_Tarjeta_Credito",
         "bool"
        ],
        [
         "payment_group_Transferencia_Giro",
         "bool"
        ],
        [
         "sin_garantia",
         "bool"
        ],
        [
         "reputacion",
         "bool"
        ],
        [
         "_3_6_meses",
         "bool"
        ],
        [
         "con_garantia",
         "bool"
        ],
        [
         "warranty_group",
         "category"
        ],
        [
         "diferencia_meses",
         "int64"
        ],
        [
         "title_cont_usado",
         "bool"
        ],
        [
         "title_cont_nuevo",
         "bool"
        ]
       ],
       "shape": {
        "columns": 1,
        "rows": 41
       }
      },
      "text/plain": [
       "condition                              int64\n",
       "base_price                           float64\n",
       "seller_id                           category\n",
       "listing_type_id                     category\n",
       "price                                float64\n",
       "buying_mode                         category\n",
       "category_id                         category\n",
       "international_delivery_mode         category\n",
       "accepts_mercadopago                     bool\n",
       "currency_id                         category\n",
       "automatic_relist                        bool\n",
       "status                              category\n",
       "initial_quantity                       int64\n",
       "sold_quantity                          int64\n",
       "available_quantity                     int64\n",
       "seller_address_state.name           category\n",
       "seller_address_city.name            category\n",
       "sub_status_deleted                      bool\n",
       "sub_status_expired                      bool\n",
       "sub_status_suspended                    bool\n",
       "shipping_local_pick_up                  bool\n",
       "shipping_free_shipping                  bool\n",
       "shipping_mode                       category\n",
       "shipping_free_methods                   bool\n",
       "tags_dragged_bids_and_visits            bool\n",
       "tags_dragged_visits                     bool\n",
       "tags_free_relist                        bool\n",
       "tags_good_quality_thumbnail             bool\n",
       "tags_poor_quality_thumbnail             bool\n",
       "payment_group_Arreglo_Directo           bool\n",
       "payment_group_MercadoPago               bool\n",
       "payment_group_Tarjeta_Credito           bool\n",
       "payment_group_Transferencia_Giro        bool\n",
       "sin_garantia                            bool\n",
       "reputacion                              bool\n",
       "_3_6_meses                              bool\n",
       "con_garantia                            bool\n",
       "warranty_group                      category\n",
       "diferencia_meses                       int64\n",
       "title_cont_usado                        bool\n",
       "title_cont_nuevo                        bool\n",
       "dtype: object"
      ]
     },
     "execution_count": 5,
     "metadata": {},
     "output_type": "execute_result"
    }
   ],
   "source": [
    "df = set_datatypes(df, numericas=configs.col_numericas, categoricas_nom=configs.col_categoricas, booleanas=configs.col_booleanas)\n",
    "df.dtypes"
   ]
  },
  {
   "cell_type": "code",
   "execution_count": 13,
   "id": "29a69b7f",
   "metadata": {},
   "outputs": [
    {
     "name": "stdout",
     "output_type": "stream",
     "text": [
      "Iniciando la selección de características con One-Hot Encoding...\n",
      "El número de características después de la codificación es: 71\n",
      "Entrenando el modelo Random Forest...\n",
      "\n",
      "Accuracy en entrenamiento: 0.8831\n",
      "Accuracy en test: 0.8614\n",
      "\n",
      "Top 15 features seleccionadas:\n",
      "                          feature  importance\n",
      "33           listing_type_id_free    0.202333\n",
      "6                initial_quantity    0.185549\n",
      "8              available_quantity    0.167715\n",
      "7                   sold_quantity    0.060708\n",
      "2                           price    0.060432\n",
      "0                      base_price    0.058747\n",
      "3                     category_id    0.034328\n",
      "32               title_cont_nuevo    0.021616\n",
      "9        seller_address_city.name    0.018423\n",
      "1                       seller_id    0.017884\n",
      "29                 warranty_group    0.017231\n",
      "23  payment_group_Tarjeta_Credito    0.014158\n",
      "38         listing_type_id_silver    0.013410\n",
      "31               title_cont_usado    0.013236\n",
      "5                automatic_relist    0.009986\n"
     ]
    }
   ],
   "source": [
    "selected_features, importance_df, rf_model = feature_selection_random_forest(\n",
    "        df_label_encoded,\n",
    "        target_col='condition',\n",
    "        n_features=15,\n",
    "        n_estimators=600,\n",
    "        max_depth=15\n",
    "    )"
   ]
  },
  {
   "cell_type": "code",
   "execution_count": null,
   "id": "1314cfb8",
   "metadata": {},
   "outputs": [],
   "source": [
    "import os\n",
    "import xgboost as xgb\n",
    "from sklearn.model_selection import train_test_split\n",
    "from sklearn.preprocessing import StandardScaler\n",
    "from sklearn.preprocessing import OneHotEncoder\n",
    "from sklearn.compose import ColumnTransformer\n",
    "from xgboost import XGBClassifier\n",
    "from xgboost import XGBRegressor\n",
    "from sklearn.metrics import cohen_kappa_score, precision_score\n",
    "from sklearn.metrics import matthews_corrcoef, mean_squared_error, log_loss\n",
    "from sklearn.metrics import f1_score, recall_score, roc_auc_score\n",
    "\n",
    "dfs['condition'] = dfs['condition'].replace('new', 0)\n",
    "dfs['condition'] = dfs['condition'].replace('used', 1)\n",
    "\n",
    "scaled_features = dfs.copy()\n",
    "  \n",
    "col_names = ['warranty', 'initial_quantity', 'available_quantity', 'sold_quantity',\n",
    "       'base_price', 'price', 'Giro_postal', 'free_shipping', 'local_pick_up',\n",
    "       'Contra_reembolso', 'Acordar_con_el_comprador', 'Cheque_certificado',\n",
    "       'Efectivo', 'Transferencia_bancaria', 'Aceptan_Tarjeta',\n",
    "       'automatic_relist', 'accepts_mercadopago', 'days_active']\n",
    "\n",
    "features = scaled_features[col_names]\n",
    "scaler = StandardScaler().fit(features.values)\n",
    "features = scaler.transform(features.values)\n",
    "scaled_features[col_names] = features\n",
    "\n",
    "\n",
    "X = scaled_features.drop(columns=['condition'], axis=1)\n",
    "#X = dfs.drop(columns='condition')\n",
    "y = scaled_features.condition\n",
    "\n",
    "\n",
    "X_train, X_test, Y_train, Y_test = train_test_split(X, y, test_size=0.2, random_state=7)\n",
    "Y_train = Y_train\n",
    "Y_test = Y_test\n",
    "\n",
    "full_pipeline = ColumnTransformer([('cat', OneHotEncoder(handle_unknown='ignore'), X_train.columns)], remainder='passthrough')\n",
    "\n",
    "encoder = full_pipeline.fit(X_train)\n",
    "X_train_enc = encoder.transform(X_train)\n",
    "X_test_enc = encoder.transform(X_test)\n",
    "\n",
    "# train the model\n",
    "model = xgb.XGBClassifier(n_estimators= 200,\n",
    "                             max_depth= 30,                         # Lower ratios avoid over-fitting. Default is 6.\n",
    "                             objective = 'binary:logistic',         # Default is reg:squarederror. 'multi:softprob' for multiclass and get proba.  \n",
    "                             #num_class = 2,                        # Use if softprob is set.\n",
    "                             reg_lambda = 10,                       # Larger ratios avoid over-fitting. Default is 1.\n",
    "                             gamma = 0.3,                           # Larger values avoid over-fitting. Default is 0. # Values from 0.3 to 0.8 if you have many columns (especially if you did one-hot encoding), or 0.8 to 1 if you only have a few columns.\n",
    "                             alpha = 1,                             # Larger ratios avoid over-fitting. Default is 0.\n",
    "                             learning_rate= 0.10,                   # Lower ratios avoid over-fitting. Default is 3.\n",
    "                             colsample_bytree= 0.7,                 # Lower ratios avoid over-fitting.\n",
    "                             scale_pos_weight = 1,                  # Default is 1. Control balance of positive and negative weights, for unbalanced classes.\n",
    "                             subsample = 0.1,                       # Lower ratios avoid over-fitting. Default 1. 0.5 recommended. # 0.1 if using GPU.\n",
    "                             min_child_weight = 3,                  # Larger ratios avoid over-fitting. Default is 1.\n",
    "                             missing = np.nan,                      # Deal with missing values\n",
    "                             num_parallel_tree = 2,                 # Parallel trees constructed during each iteration. Default is 1.\n",
    "                             importance_type = 'weight',\n",
    "                             eval_metric = 'auc',\n",
    "                             #use_label_encoder = True,\n",
    "                             #enable_categorical = True,\n",
    "                             verbosity = 1,\n",
    "                             nthread = -1,                          # Set -1 to use all threads.\n",
    "                             #use_rmm = True,                       # Use GPU if available\n",
    "                             tree_method = 'auto', # auto           # 'gpu_hist'. Default is auto: analyze the data and chooses the fastest.\n",
    "                             #gradient_based = True,                # If True you can set subsample as low as 0.1. Only use with gpu_hist \n",
    "                            )\n",
    "\n",
    "# fit model              \n",
    "model.fit(X_train_enc, Y_train.values.ravel(),\n",
    "          # early_stopping_rounds=20\n",
    "         )\n",
    "\n",
    "# check best ntree limit\n",
    "display(model.best_ntree_limit)\n",
    "\n",
    "# extract the training set predictions\n",
    "preds_train = model.predict(X_train_enc,\n",
    "                            ntree_limit=model.best_ntree_limit\n",
    "                           )\n",
    "# extract the test set predictions\n",
    "preds_test = model.predict(X_test_enc,\n",
    "                           ntree_limit=model.best_ntree_limit\n",
    "                           )"
   ]
  },
  {
   "cell_type": "code",
   "execution_count": null,
   "id": "6756747d",
   "metadata": {},
   "outputs": [],
   "source": []
  },
  {
   "cell_type": "code",
   "execution_count": null,
   "id": "60069aab",
   "metadata": {},
   "outputs": [],
   "source": []
  }
 ],
 "metadata": {
  "kernelspec": {
   "display_name": "challenge-ds-meli-d6wZKxOy-py3.12",
   "language": "python",
   "name": "python3"
  },
  "language_info": {
   "codemirror_mode": {
    "name": "ipython",
    "version": 3
   },
   "file_extension": ".py",
   "mimetype": "text/x-python",
   "name": "python",
   "nbconvert_exporter": "python",
   "pygments_lexer": "ipython3",
   "version": "3.12.4"
  }
 },
 "nbformat": 4,
 "nbformat_minor": 5
}
